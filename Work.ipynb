{
  "nbformat": 4,
  "nbformat_minor": 0,
  "metadata": {
    "colab": {
      "name": "Untitled0.ipynb",
      "version": "0.3.2",
      "provenance": [],
      "collapsed_sections": []
    },
    "kernelspec": {
      "name": "python3",
      "display_name": "Python 3"
    }
  },
  "cells": [
    {
      "cell_type": "code",
      "metadata": {
        "id": "1InAJOslcAz1",
        "colab_type": "code",
        "outputId": "6e095e09-93c3-46ec-b3e5-4712059bfcda",
        "colab": {
          "base_uri": "https://localhost:8080/",
          "height": 425
        }
      },
      "source": [
        "from operator import add, mul, sub\n",
        "import random\n",
        "\n",
        "score = 0  \n",
        "questions = 0  \n",
        "operators = {\"+\": add, \"-\": sub, \"*\": mul}\n",
        "print(\"This is a test of your addition,multiplication,and subtraction....\")\n",
        "print(\"You will now be asked ten random questions...\")\n",
        "keys = list(operators)\n",
        "for _ in range(5):  \n",
        "    number1 = random.randint(0, 9)\n",
        "    number2 = random.randint(0, 9)\n",
        "    operator = random.choice(keys)\n",
        "    if number2>number1:\n",
        "      number1,number2=number2,number1\n",
        "    answer = int(input(\"What is {} {} {}?\\n\".format(number1,operator, number2)))\n",
        "    if answer == (operators[operator](number1, number2)):\n",
        "        print(\"You are correct\")\n",
        "        print()\n",
        "        score += 1\n",
        "    else:\n",
        "        print(\"Your answer is incorrect\")\n",
        "        print()\n",
        "print(\"Your score is:\",score)\n",
        "if score>=2:\n",
        "  print(\"Pass\")\n",
        "else:\n",
        "  print(\"Fail\")\n",
        "  "
      ],
      "execution_count": 9,
      "outputs": [
        {
          "output_type": "stream",
          "text": [
            "This is a test of your addition,multiplication,and subtraction....\n",
            "You will now be asked ten random questions...\n",
            "What is 4 + 1?\n",
            "5\n",
            "You are correct\n",
            "\n",
            "What is 8 * 2?\n",
            "16\n",
            "You are correct\n",
            "\n",
            "What is 7 + 0?\n",
            "0\n",
            "Your answer is incorrect\n",
            "\n",
            "What is 5 - 0?\n",
            "5\n",
            "You are correct\n",
            "\n",
            "What is 5 - 4?\n",
            "4\n",
            "Your answer is incorrect\n",
            "\n",
            "Your score is: 3\n",
            "Pass\n"
          ],
          "name": "stdout"
        }
      ]
    },
    {
      "cell_type": "code",
      "metadata": {
        "id": "EOwQR3N6hHVp",
        "colab_type": "code",
        "colab": {}
      },
      "source": [
        ""
      ],
      "execution_count": 0,
      "outputs": []
    },
    {
      "cell_type": "code",
      "metadata": {
        "id": "cav72A1Smxql",
        "colab_type": "code",
        "colab": {}
      },
      "source": [
        ""
      ],
      "execution_count": 0,
      "outputs": []
    },
    {
      "cell_type": "code",
      "metadata": {
        "id": "3YzkEgHwm0AZ",
        "colab_type": "code",
        "colab": {}
      },
      "source": [
        ""
      ],
      "execution_count": 0,
      "outputs": []
    },
    {
      "cell_type": "code",
      "metadata": {
        "id": "Ri_svMiBLzTn",
        "colab_type": "code",
        "colab": {}
      },
      "source": [
        ""
      ],
      "execution_count": 0,
      "outputs": []
    },
    {
      "cell_type": "code",
      "metadata": {
        "id": "tHqOYApFfjU5",
        "colab_type": "code",
        "outputId": "0d7f94ba-95d8-4cc0-c149-40936893f12c",
        "colab": {
          "base_uri": "https://localhost:8080/",
          "height": 102
        }
      },
      "source": [
        "list = []\n",
        "num = int(input('How many numbers: '))\n",
        "for n in range(num):\n",
        "    numbers = int(input('Enter number '))\n",
        "    list.append(numbers)\n",
        "print(\"Sum of elements in given list is :\", sum(list))"
      ],
      "execution_count": 0,
      "outputs": [
        {
          "output_type": "stream",
          "text": [
            "How many numbers: 3\n",
            "Enter number 1\n",
            "Enter number 2\n",
            "Enter number 3\n",
            "Sum of elements in given list is : 6\n"
          ],
          "name": "stdout"
        }
      ]
    },
    {
      "cell_type": "code",
      "metadata": {
        "id": "tlS9ZtetLqDi",
        "colab_type": "code",
        "outputId": "17b87eb3-f21f-44e4-c1f4-c6ccf01c9ae8",
        "colab": {
          "base_uri": "https://localhost:8080/",
          "height": 85
        }
      },
      "source": [
        "lst = []\n",
        "num = int(input('How many numbers: '))\n",
        "for n in range(num):\n",
        "    numbers = int(input('Enter number '))\n",
        "    lst.append(numbers)\n",
        "def multiplyList(Lst) : \n",
        "    result = 1\n",
        "    for x in Lst: \n",
        "         result = result * x  \n",
        "    return result\n",
        "print(\"Multiplication of all number in list is:\", multiplyList(lst))"
      ],
      "execution_count": 0,
      "outputs": [
        {
          "output_type": "stream",
          "text": [
            "How many numbers: 2\n",
            "Enter number 3\n",
            "Enter number 3\n",
            "Multiplication of all number in list is: 9\n"
          ],
          "name": "stdout"
        }
      ]
    },
    {
      "cell_type": "code",
      "metadata": {
        "id": "E0ngLXD7OLzf",
        "colab_type": "code",
        "outputId": "b5de2202-e36e-4882-8b0c-c86f0d30670a",
        "colab": {
          "base_uri": "https://localhost:8080/",
          "height": 253
        }
      },
      "source": [
        "n = int(input('Enter number '))\n",
        "factorial = 1\n",
        "if n < 0:\n",
        "   print(\"Sorry, factorial does not exist for negative numbers\")\n",
        "elif num == 0:\n",
        "   print(\"The factorial of 0 is 1\")\n",
        "else:\n",
        "   for i in range(1,n + 1):\n",
        "       factorial = factorial*i\n",
        "print(\"The factorial of\",n,\"is\",factorial)"
      ],
      "execution_count": 0,
      "outputs": [
        {
          "output_type": "stream",
          "text": [
            "Enter number 3\n"
          ],
          "name": "stdout"
        },
        {
          "output_type": "error",
          "ename": "NameError",
          "evalue": "ignored",
          "traceback": [
            "\u001b[0;31m---------------------------------------------------------------------------\u001b[0m",
            "\u001b[0;31mNameError\u001b[0m                                 Traceback (most recent call last)",
            "\u001b[0;32m<ipython-input-1-b2f0104d698c>\u001b[0m in \u001b[0;36m<module>\u001b[0;34m()\u001b[0m\n\u001b[1;32m      3\u001b[0m \u001b[0;32mif\u001b[0m \u001b[0mn\u001b[0m \u001b[0;34m<\u001b[0m \u001b[0;36m0\u001b[0m\u001b[0;34m:\u001b[0m\u001b[0;34m\u001b[0m\u001b[0;34m\u001b[0m\u001b[0m\n\u001b[1;32m      4\u001b[0m    \u001b[0mprint\u001b[0m\u001b[0;34m(\u001b[0m\u001b[0;34m\"Sorry, factorial does not exist for negative numbers\"\u001b[0m\u001b[0;34m)\u001b[0m\u001b[0;34m\u001b[0m\u001b[0;34m\u001b[0m\u001b[0m\n\u001b[0;32m----> 5\u001b[0;31m \u001b[0;32melif\u001b[0m \u001b[0mnum\u001b[0m \u001b[0;34m==\u001b[0m \u001b[0;36m0\u001b[0m\u001b[0;34m:\u001b[0m\u001b[0;34m\u001b[0m\u001b[0;34m\u001b[0m\u001b[0m\n\u001b[0m\u001b[1;32m      6\u001b[0m    \u001b[0mprint\u001b[0m\u001b[0;34m(\u001b[0m\u001b[0;34m\"The factorial of 0 is 1\"\u001b[0m\u001b[0;34m)\u001b[0m\u001b[0;34m\u001b[0m\u001b[0;34m\u001b[0m\u001b[0m\n\u001b[1;32m      7\u001b[0m \u001b[0;32melse\u001b[0m\u001b[0;34m:\u001b[0m\u001b[0;34m\u001b[0m\u001b[0;34m\u001b[0m\u001b[0m\n",
            "\u001b[0;31mNameError\u001b[0m: name 'num' is not defined"
          ]
        }
      ]
    },
    {
      "cell_type": "code",
      "metadata": {
        "id": "PuagzVOCQRid",
        "colab_type": "code",
        "outputId": "0590c903-b541-4a67-bec2-c7d5b85bfa67",
        "colab": {
          "base_uri": "https://localhost:8080/",
          "height": 68
        }
      },
      "source": [
        "def str(s):\n",
        "    d={\"UPPER_CASE\":0, \"LOWER_CASE\":0}\n",
        "    for c in s:\n",
        "        if c.isupper():\n",
        "           d[\"UPPER_CASE\"]+=1\n",
        "        elif c.islower():\n",
        "           d[\"LOWER_CASE\"]+=1\n",
        "        else:\n",
        "           pass\n",
        "    print (\"Original String : \", s)\n",
        "    print (\"No. of Upper case characters : \", d[\"UPPER_CASE\"])\n",
        "    print (\"No. of Lower case Characters : \", d[\"LOWER_CASE\"])\n",
        "#Enter the string here\n",
        "str(' DIChakaO')"
      ],
      "execution_count": 0,
      "outputs": [
        {
          "output_type": "stream",
          "text": [
            "Original String :   DIChakaO\n",
            "No. of Upper case characters :  4\n",
            "No. of Lower case Characters :  4\n"
          ],
          "name": "stdout"
        }
      ]
    },
    {
      "cell_type": "code",
      "metadata": {
        "id": "-5bk9VEsSWE4",
        "colab_type": "code",
        "outputId": "1c486e7b-1d46-430b-b49f-af9a1b1870b2",
        "colab": {
          "base_uri": "https://localhost:8080/",
          "height": 119
        }
      },
      "source": [
        "list = []\n",
        "num = int(input('How many numbers in list: '))\n",
        "for n in range(num):\n",
        "    numbers = int(input('Enter number '))\n",
        "    list.append(numbers)\n",
        "new_list = []\n",
        "\n",
        "[new_list.append(x) for x in list if x not in new_list]\n",
        "\n",
        "print(new_list)"
      ],
      "execution_count": 0,
      "outputs": [
        {
          "output_type": "stream",
          "text": [
            "How many numbers in list: 4\n",
            "Enter number 3\n",
            "Enter number 2\n",
            "Enter number 3\n",
            "Enter number 3\n",
            "[3, 2]\n"
          ],
          "name": "stdout"
        }
      ]
    },
    {
      "cell_type": "code",
      "metadata": {
        "id": "u1DzaqzERONr",
        "colab_type": "code",
        "outputId": "7af9ca70-51ad-49ec-cdd2-b9a512109d8e",
        "colab": {
          "base_uri": "https://localhost:8080/",
          "height": 51
        }
      },
      "source": [
        "num = int(input('Enter the number you want to check wether it is prime or not::'))\n",
        "\n",
        "if num > 1: \n",
        "  for i in range(2, num//2): \n",
        "    if (num % i) == 0: \n",
        "      print(num, \"is not a prime number\") \n",
        "    break\n",
        "  else: \n",
        "\t   print(num, \"is a prime number\") "
      ],
      "execution_count": 0,
      "outputs": [
        {
          "output_type": "stream",
          "text": [
            "Enter the number you want to check wether it is prime or not::6\n",
            "6 is not a prime number\n"
          ],
          "name": "stdout"
        }
      ]
    },
    {
      "cell_type": "code",
      "metadata": {
        "id": "tyVPnf_CQ0Mb",
        "colab_type": "code",
        "colab": {}
      },
      "source": [
        ""
      ],
      "execution_count": 0,
      "outputs": []
    },
    {
      "cell_type": "code",
      "metadata": {
        "id": "N4XeJcJMW0o2",
        "colab_type": "code",
        "colab": {}
      },
      "source": [
        "x = [] \n",
        "  \n",
        "# number of elemetns as input \n",
        "n = int(input(\"Enter number of elements : \")) \n",
        "  \n",
        "# iterating till the range \n",
        "for i in range(0, n): \n",
        "    ele = int(input()) \n",
        "  \n",
        "    x.append(ele) # adding the element \n",
        "      \n",
        "print(lst)\n",
        "def Sort(x):\n",
        "  L=sorted(x)\n",
        "  if x==L:\n",
        "    return x\n",
        "  else:\n",
        "    i=0\n",
        "    for i in range (len(x)):\n",
        "        if x[i] > x[i+1] :\n",
        "            break\n",
        "\n",
        "    unsortedPart = x[i:]\n",
        "    R = RecursiveMin(unsortedPart)\n",
        "    I = unsortedPart.index(R)\n",
        "\n",
        "    for j in range (len(x)):\n",
        "        if x[j] > R :\n",
        "            del x[(I+i)]\n",
        "            x.insert(j,R)\n",
        "            break\n",
        "\n",
        "    return Sort(x)\n",
        "def minimum(x):\n",
        "    x = sorted(x)\n",
        "    return x[0]\n",
        "\n",
        "def maximum(x):\n",
        "    x = sorted(x)\n",
        "    return x[-1]\n",
        "\n",
        "print(\"Minimum:\")\n",
        "print(minimum(x))\n",
        "print(\"Minimum:\")\n",
        "print(maximum(x))\n",
        "y = len(x) \n",
        "  \n",
        "get_sum = sum(x) \n",
        "mean = get_sum / n \n",
        "  \n",
        "print(\"Mean is: \" + str(mean))"
      ],
      "execution_count": 0,
      "outputs": []
    },
    {
      "cell_type": "code",
      "metadata": {
        "id": "EnPbtwHeXEUe",
        "colab_type": "code",
        "outputId": "1b506704-bf4e-44fb-858c-600ba032ddb1",
        "colab": {
          "base_uri": "https://localhost:8080/",
          "height": 105
        }
      },
      "source": [
        "import random\n",
        "def bubble_sort(list1):\n",
        "  n = len(list1)\n",
        "  for i in range(n):\n",
        "    for j in range(0, n-i-1):\n",
        "      if list1[j] > list1[j+1]:\n",
        "        list1[j],list1[j+1] = list1[j+1],list1[j]\n",
        "  print(\"Sorted List:\", list1)\n",
        "  print(\"Minimun is:\", list1[0])\n",
        "  print(\"Maximum is:\", list1[99])\n",
        "  \n",
        "def average_count_sd(list1):\n",
        "  tot = 0\n",
        "  count = 0\n",
        "  for i in list1:\n",
        "    tot = tot + i\n",
        "    count = count + 1\n",
        "  avg = tot / len(list1)\n",
        "  tot2 = 0\n",
        "  for i in list1:\n",
        "    tot2 = (i - avg)**2\n",
        "  avg2 = (tot2 / len(list1))**0.5 \n",
        "  print(\"Average is:\",avg)\n",
        "  print(\"Count is:\",count)\n",
        "  print(\"Standard Deviation is:\", avg2)\n",
        "  \n",
        "list1 = []\n",
        "for i in range(1,101):\n",
        "  i = random.randint(0,100)\n",
        "  list1.append(i)\n",
        "print(list1)\n",
        "average_count_sd(list1)"
      ],
      "execution_count": 0,
      "outputs": [
        {
          "output_type": "stream",
          "text": [
            "[15, 21, 70, 63, 42, 31, 52, 94, 0, 37, 98, 2, 31, 84, 46, 99, 44, 84, 41, 88, 36, 90, 50, 53, 69, 45, 8, 79, 18, 80, 24, 90, 31, 9, 6, 15, 97, 64, 28, 83, 12, 21, 16, 0, 35, 18, 84, 40, 29, 78, 28, 53, 25, 2, 53, 8, 45, 99, 46, 88, 43, 46, 15, 25, 10, 73, 4, 32, 44, 60, 50, 70, 20, 92, 32, 100, 37, 39, 15, 94, 21, 94, 69, 71, 15, 27, 8, 32, 28, 48, 69, 6, 70, 72, 80, 46, 59, 91, 28, 32]\n",
            "Average is: 46.64\n",
            "Count is: 100\n",
            "Standard Deviation is: 1.4640000000000002\n"
          ],
          "name": "stdout"
        }
      ]
    },
    {
      "cell_type": "code",
      "metadata": {
        "id": "I0WHujt5m1mZ",
        "colab_type": "code",
        "outputId": "56afd0b8-2f51-490a-8236-0de3c2786c98",
        "colab": {
          "base_uri": "https://localhost:8080/",
          "height": 1000
        }
      },
      "source": [
        "#SELECTION SORT\n",
        "import sys \n",
        "import random\n",
        "A = [random.randrange(1, 101) for _ in range(101)] \n",
        "for i in range(len(A)): \n",
        "    min_idx = i \n",
        "    for j in range(i+1, len(A)): \n",
        "        if A[min_idx] > A[j]: \n",
        "            min_idx = j         \n",
        "    A[i], A[min_idx] = A[min_idx], A[i] \n",
        "print (\"Sorted array\") \n",
        "for i in range(len(A)): \n",
        "    print(\"%d\" %A[i]) "
      ],
      "execution_count": 0,
      "outputs": [
        {
          "output_type": "stream",
          "text": [
            "Sorted array\n",
            "1\n",
            "2\n",
            "3\n",
            "4\n",
            "4\n",
            "4\n",
            "5\n",
            "8\n",
            "8\n",
            "11\n",
            "12\n",
            "12\n",
            "14\n",
            "14\n",
            "17\n",
            "17\n",
            "18\n",
            "18\n",
            "18\n",
            "18\n",
            "18\n",
            "20\n",
            "20\n",
            "20\n",
            "20\n",
            "20\n",
            "25\n",
            "27\n",
            "28\n",
            "30\n",
            "30\n",
            "31\n",
            "31\n",
            "33\n",
            "33\n",
            "34\n",
            "35\n",
            "37\n",
            "38\n",
            "39\n",
            "40\n",
            "40\n",
            "40\n",
            "41\n",
            "42\n",
            "42\n",
            "43\n",
            "45\n",
            "46\n",
            "48\n",
            "48\n",
            "50\n",
            "51\n",
            "53\n",
            "54\n",
            "55\n",
            "62\n",
            "63\n",
            "64\n",
            "65\n",
            "67\n",
            "67\n",
            "67\n",
            "69\n",
            "69\n",
            "70\n",
            "70\n",
            "70\n",
            "72\n",
            "74\n",
            "75\n",
            "75\n",
            "76\n",
            "76\n",
            "77\n",
            "79\n",
            "79\n",
            "79\n",
            "80\n",
            "82\n",
            "82\n",
            "83\n",
            "83\n",
            "85\n",
            "88\n",
            "88\n",
            "88\n",
            "89\n",
            "89\n",
            "90\n",
            "91\n",
            "92\n",
            "93\n",
            "93\n",
            "94\n",
            "95\n",
            "97\n",
            "97\n",
            "97\n",
            "98\n",
            "99\n"
          ],
          "name": "stdout"
        }
      ]
    },
    {
      "cell_type": "code",
      "metadata": {
        "id": "r83kN1JSqXvD",
        "colab_type": "code",
        "outputId": "ec0565e7-79d3-4c12-88cf-2f6256645ab4",
        "colab": {
          "base_uri": "https://localhost:8080/",
          "height": 54
        }
      },
      "source": [
        "#bubble sort\n",
        "import random\n",
        "A = [random.randrange(1, 101) for _ in range(101)] \n",
        "def bubbleSort(A):\n",
        "    for j in range(len(A)-1,0,-1):\n",
        "        for i in range(j):\n",
        "            if A[i]>A[i+1]:\n",
        "                temp = A[i]\n",
        "                A[i] = A[i+1]\n",
        "                A[i+1] = temp\n",
        "bubbleSort(A)\n",
        "print(A)"
      ],
      "execution_count": 0,
      "outputs": [
        {
          "output_type": "stream",
          "text": [
            "[1, 1, 1, 2, 3, 4, 5, 6, 7, 7, 8, 8, 10, 11, 13, 13, 13, 15, 16, 16, 20, 20, 22, 25, 25, 25, 27, 28, 30, 30, 31, 32, 33, 34, 34, 34, 37, 37, 37, 38, 40, 41, 41, 41, 42, 42, 44, 45, 45, 47, 49, 49, 50, 51, 53, 54, 55, 56, 56, 60, 64, 65, 67, 68, 68, 69, 70, 70, 70, 72, 72, 73, 73, 73, 77, 78, 82, 82, 82, 83, 83, 84, 85, 85, 86, 87, 88, 89, 91, 92, 93, 93, 94, 94, 94, 95, 95, 95, 95, 96, 99]\n"
          ],
          "name": "stdout"
        }
      ]
    },
    {
      "cell_type": "code",
      "metadata": {
        "id": "eA_PO_OktB6W",
        "colab_type": "code",
        "outputId": "436293ac-dc7e-499a-e4dd-41be2c17f1ad",
        "colab": {
          "base_uri": "https://localhost:8080/",
          "height": 1000
        }
      },
      "source": [
        "#insertion sort\n",
        "import random\n",
        "A = [random.randrange(1, 101) for _ in range(101)] \n",
        "def insertionSort(A): \n",
        "    for i in range(1, len(A)): \n",
        "        key = A[i] \n",
        "        j = i-1\n",
        "        while j >=0 and key < A[j] : \n",
        "                A[j+1] = A[j] \n",
        "                j -= 1\n",
        "        A[j+1] = key \n",
        "insertionSort(A) \n",
        "print (\"Sorted array is:\") \n",
        "for i in range(len(A)): \n",
        "    print (\"%d\" %A[i]) "
      ],
      "execution_count": 0,
      "outputs": [
        {
          "output_type": "stream",
          "text": [
            "Sorted array is:\n",
            "1\n",
            "2\n",
            "2\n",
            "5\n",
            "6\n",
            "7\n",
            "8\n",
            "8\n",
            "8\n",
            "9\n",
            "9\n",
            "10\n",
            "11\n",
            "12\n",
            "12\n",
            "12\n",
            "16\n",
            "18\n",
            "18\n",
            "18\n",
            "22\n",
            "22\n",
            "23\n",
            "25\n",
            "26\n",
            "31\n",
            "32\n",
            "32\n",
            "33\n",
            "33\n",
            "34\n",
            "34\n",
            "35\n",
            "35\n",
            "36\n",
            "36\n",
            "37\n",
            "38\n",
            "39\n",
            "39\n",
            "40\n",
            "41\n",
            "41\n",
            "44\n",
            "47\n",
            "50\n",
            "50\n",
            "51\n",
            "52\n",
            "52\n",
            "54\n",
            "54\n",
            "55\n",
            "55\n",
            "56\n",
            "56\n",
            "56\n",
            "57\n",
            "63\n",
            "63\n",
            "63\n",
            "64\n",
            "65\n",
            "66\n",
            "66\n",
            "68\n",
            "69\n",
            "70\n",
            "74\n",
            "74\n",
            "75\n",
            "76\n",
            "76\n",
            "76\n",
            "80\n",
            "81\n",
            "82\n",
            "84\n",
            "84\n",
            "85\n",
            "87\n",
            "89\n",
            "92\n",
            "92\n",
            "94\n",
            "94\n",
            "95\n",
            "95\n",
            "95\n",
            "95\n",
            "96\n",
            "96\n",
            "96\n",
            "96\n",
            "96\n",
            "97\n",
            "98\n",
            "98\n",
            "99\n",
            "100\n",
            "100\n"
          ],
          "name": "stdout"
        }
      ]
    },
    {
      "cell_type": "code",
      "metadata": {
        "id": "F7a18gzrhJH4",
        "colab_type": "code",
        "colab": {
          "base_uri": "https://localhost:8080/",
          "height": 54
        },
        "outputId": "cb6a264e-89d3-492c-95b9-c03a6a992d3a"
      },
      "source": [
        "#merge sort\n",
        "import random\n",
        "A = [random.randrange(1, 101) for _ in range(101)]  \n",
        "def mergeSort(A):\n",
        "    if len(A)>1:\n",
        "        mid = len(A)//2\n",
        "        lefthalf = A[:mid]\n",
        "        righthalf = A[mid:]\n",
        "        mergeSort(lefthalf)\n",
        "        mergeSort(righthalf)\n",
        "        i=j=k=0       \n",
        "        while i < len(lefthalf) and j < len(righthalf):\n",
        "            if lefthalf[i] < righthalf[j]:\n",
        "                A[k]=lefthalf[i]\n",
        "                i=i+1\n",
        "            else:\n",
        "                A[k]=righthalf[j]\n",
        "                j=j+1\n",
        "            k=k+1\n",
        "        while i < len(lefthalf):\n",
        "            A[k]=lefthalf[i]\n",
        "            i=i+1\n",
        "            k=k+1\n",
        "\n",
        "        while j < len(righthalf):\n",
        "            A[k]=righthalf[j]\n",
        "            j=j+1\n",
        "            k=k+1\n",
        "mergeSort(A)\n",
        "print(A)"
      ],
      "execution_count": 5,
      "outputs": [
        {
          "output_type": "stream",
          "text": [
            "[1, 1, 1, 2, 2, 2, 3, 7, 9, 10, 11, 11, 14, 15, 15, 16, 16, 17, 17, 18, 18, 18, 19, 19, 20, 21, 22, 23, 24, 26, 28, 28, 29, 29, 30, 30, 32, 33, 37, 40, 41, 41, 41, 42, 43, 43, 44, 45, 45, 47, 49, 50, 50, 51, 53, 53, 54, 54, 57, 58, 59, 61, 62, 63, 64, 66, 66, 68, 69, 71, 71, 71, 72, 73, 73, 74, 75, 76, 77, 77, 78, 78, 79, 79, 81, 82, 82, 84, 85, 87, 87, 89, 90, 91, 92, 93, 93, 94, 96, 98, 99]\n"
          ],
          "name": "stdout"
        }
      ]
    },
    {
      "cell_type": "code",
      "metadata": {
        "id": "k8jqQOZxjY8F",
        "colab_type": "code",
        "colab": {
          "base_uri": "https://localhost:8080/",
          "height": 54
        },
        "outputId": "fccd1b9a-73d1-4cd9-eb0a-4d2317e61887"
      },
      "source": [
        "#quick sort\n",
        "def quickSort(A):\n",
        "  quick(A,0,len(A)-1)\n",
        "def quick(A,first,last):\n",
        "  if first<last:\n",
        "      split = partition(A,first,last)\n",
        "      quick(A,first,split-1)\n",
        "      quick(A,split+1,last)\n",
        "def partition(A,first,last):\n",
        "  pivot = A[first]\n",
        "  left = first+1\n",
        "  right = last\n",
        "  done = False\n",
        "  while not done:\n",
        "      while left <= right and A[left] <= pivot:\n",
        "          left = left + 1\n",
        "      while A[right] >= pivot and right >= left:\n",
        "          right = right -1\n",
        "      if right < left:\n",
        "          done = True\n",
        "      else:\n",
        "          temp = A[left]\n",
        "          A[left] = A[right]\n",
        "          A[right] = temp\n",
        "  temp = A[first]\n",
        "  A[first] = A[right]\n",
        "  A[right] = temp\n",
        "  return right\n",
        "quickSort(A)\n",
        "print(A)"
      ],
      "execution_count": 8,
      "outputs": [
        {
          "output_type": "stream",
          "text": [
            "[1, 1, 1, 2, 2, 2, 3, 7, 9, 10, 11, 11, 14, 15, 15, 16, 16, 17, 17, 18, 18, 18, 19, 19, 20, 21, 22, 23, 24, 26, 28, 28, 29, 29, 30, 30, 32, 33, 37, 40, 41, 41, 41, 42, 43, 43, 44, 45, 45, 47, 49, 50, 50, 51, 53, 53, 54, 54, 57, 58, 59, 61, 62, 63, 64, 66, 66, 68, 69, 71, 71, 71, 72, 73, 73, 74, 75, 76, 77, 77, 78, 78, 79, 79, 81, 82, 82, 84, 85, 87, 87, 89, 90, 91, 92, 93, 93, 94, 96, 98, 99]\n"
          ],
          "name": "stdout"
        }
      ]
    },
    {
      "cell_type": "code",
      "metadata": {
        "id": "fQtfE6KUuB1p",
        "colab_type": "code",
        "colab": {}
      },
      "source": [
        ""
      ],
      "execution_count": 0,
      "outputs": []
    }
  ]
}